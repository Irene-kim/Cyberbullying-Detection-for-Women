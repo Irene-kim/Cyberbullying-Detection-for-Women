{
  "nbformat": 4,
  "nbformat_minor": 0,
  "metadata": {
    "accelerator": "GPU",
    "colab": {
      "name": "codes)with_ELMo.ipynb",
      "provenance": [],
      "collapsed_sections": [],
      "machine_shape": "hm",
      "include_colab_link": true
    },
    "kernelspec": {
      "display_name": "Python 3",
      "language": "python",
      "name": "python3"
    },
    "language_info": {
      "codemirror_mode": {
        "name": "ipython",
        "version": 3
      },
      "file_extension": ".py",
      "mimetype": "text/x-python",
      "name": "python",
      "nbconvert_exporter": "python",
      "pygments_lexer": "ipython3",
      "version": "3.7.4"
    }
  },
  "cells": [
    {
      "cell_type": "markdown",
      "metadata": {
        "id": "view-in-github",
        "colab_type": "text"
      },
      "source": [
        "<a href=\"https://colab.research.google.com/github/Irene-kim/Cyberbullying-Detection-for-Women-/blob/master/codes)with_ELMo.ipynb\" target=\"_parent\"><img src=\"https://colab.research.google.com/assets/colab-badge.svg\" alt=\"Open In Colab\"/></a>"
      ]
    },
    {
      "cell_type": "code",
      "metadata": {
        "colab_type": "code",
        "id": "b-XrJEO1U_h5",
        "colab": {
          "base_uri": "https://localhost:8080/",
          "height": 130
        },
        "outputId": "10e73df0-7312-43f3-a8ae-dd3b44352888"
      },
      "source": [
        "from google.colab import drive\n",
        "drive.mount('/content/gdrive')"
      ],
      "execution_count": null,
      "outputs": [
        {
          "output_type": "stream",
          "text": [
            "Go to this URL in a browser: https://accounts.google.com/o/oauth2/auth?client_id=947318989803-6bn6qk8qdgf4n4g3pfee6491hc0brc4i.apps.googleusercontent.com&redirect_uri=urn%3aietf%3awg%3aoauth%3a2.0%3aoob&response_type=code&scope=email%20https%3a%2f%2fwww.googleapis.com%2fauth%2fdocs.test%20https%3a%2f%2fwww.googleapis.com%2fauth%2fdrive%20https%3a%2f%2fwww.googleapis.com%2fauth%2fdrive.photos.readonly%20https%3a%2f%2fwww.googleapis.com%2fauth%2fpeopleapi.readonly\n",
            "\n",
            "Enter your authorization code:\n",
            "··········\n",
            "Mounted at /content/gdrive\n"
          ],
          "name": "stdout"
        }
      ]
    },
    {
      "cell_type": "code",
      "metadata": {
        "colab_type": "code",
        "id": "Xcg3uWW2VAu4",
        "colab": {
          "base_uri": "https://localhost:8080/",
          "height": 36
        },
        "outputId": "2f6a2ae9-467b-4082-b328-09fc9417e5c6"
      },
      "source": [
        "%tensorflow_version 1.x"
      ],
      "execution_count": null,
      "outputs": [
        {
          "output_type": "stream",
          "text": [
            "TensorFlow 1.x selected.\n"
          ],
          "name": "stdout"
        }
      ]
    },
    {
      "cell_type": "code",
      "metadata": {
        "colab_type": "code",
        "id": "rq0fnK3LVG7w",
        "colab": {
          "base_uri": "https://localhost:8080/",
          "height": 36
        },
        "outputId": "91537f57-7755-40ac-a902-a5f5305a6261"
      },
      "source": [
        "import numpy as np\n",
        "import pandas as pd\n",
        "import os\n",
        "import re\n",
        "import random\n",
        "import matplotlib.pyplot as plt\n",
        "%matplotlib inline\n",
        "\n",
        "from sklearn.metrics import classification_report, confusion_matrix\n",
        "from sklearn.model_selection import cross_val_score\n",
        "from sklearn.model_selection import train_test_split\n",
        "from tensorflow.keras.preprocessing.text import Tokenizer\n",
        "from tensorflow.keras.preprocessing.sequence import pad_sequences\n",
        "from tensorflow.keras.layers import BatchNormalization, Dropout\n",
        "import tensorflow_hub as hub\n",
        "\n",
        "import tensorflow as tf\n",
        "from tensorflow.keras.layers import SimpleRNN, Embedding, Dense, LSTM, Bidirectional, Reshape, Input, Lambda, Dropout, concatenate\n",
        "from tensorflow.keras.models import Sequential\n",
        "from keras import backend as K\n",
        "\n",
        "from tensorflow.python.util import deprecation\n",
        "deprecation._PRINT_DEPRECATION_WARNINGS = False\n",
        "from tensorflow.keras.models import Model\n",
        "\n",
        "from sklearn.metrics import roc_curve, roc_auc_score, auc"
      ],
      "execution_count": null,
      "outputs": [
        {
          "output_type": "stream",
          "text": [
            "Using TensorFlow backend.\n"
          ],
          "name": "stderr"
        }
      ]
    },
    {
      "cell_type": "code",
      "metadata": {
        "colab_type": "code",
        "id": "n9UriCl-VIIE",
        "colab": {}
      },
      "source": [
        "# 2, 42, 123, 1208, 1996\n",
        "os.environ[\"CUDA_DEVICE_ORDER\"] = \"PCI_BUS_ID\"\n",
        "os.environ[\"CUDA_VISIBLE_DEVICES\"] = \"\"\n",
        "seed = 1208\n",
        "random.seed(seed) # Python\n",
        "np.random.seed(seed) # numpy\n",
        "# tf.random.set_seed(seed) # over Tensorflow 2.0\n",
        "tf.set_random_seed(seed) # below Tensorflow 2.0\n",
        "os.environ['PYTHONHASHSEED'] = str(seed)"
      ],
      "execution_count": null,
      "outputs": []
    },
    {
      "cell_type": "code",
      "metadata": {
        "colab_type": "code",
        "id": "HQUEzkWWVKsC",
        "colab": {}
      },
      "source": [
        "sess = tf.Session()\n",
        "K.set_session(sess)\n",
        "\n",
        "elmo = hub.Module(\"https://tfhub.dev/google/elmo/3\", trainable=True)\n",
        "\n",
        "sess.run(tf.global_variables_initializer())\n",
        "sess.run(tf.tables_initializer())"
      ],
      "execution_count": null,
      "outputs": []
    },
    {
      "cell_type": "code",
      "metadata": {
        "colab_type": "code",
        "id": "JIqvp5NEVLCk",
        "colab": {}
      },
      "source": [
        "base_path = r'/content/gdrive/My Drive/Sk/categories'"
      ],
      "execution_count": null,
      "outputs": []
    },
    {
      "cell_type": "code",
      "metadata": {
        "colab_type": "code",
        "id": "yIYlD5CEVLFJ",
        "colab": {}
      },
      "source": [
        "file_path = os.path.join(base_path, \"Cyberbullying.csv\")"
      ],
      "execution_count": null,
      "outputs": []
    },
    {
      "cell_type": "code",
      "metadata": {
        "colab_type": "code",
        "id": "XWqkZ_dPVLIB",
        "colab": {}
      },
      "source": [
        "df = pd.read_csv(file_path)"
      ],
      "execution_count": null,
      "outputs": []
    },
    {
      "cell_type": "code",
      "metadata": {
        "colab_type": "code",
        "id": "QiKv-sw6VLKs",
        "colab": {
          "base_uri": "https://localhost:8080/",
          "height": 247
        },
        "outputId": "62ae98f4-9bab-40ca-e331-51baf0f94f4e"
      },
      "source": [
        "df = df[['Cyberbullying', 'Text']]\n",
        "print(len(df))\n",
        "df[:6]"
      ],
      "execution_count": null,
      "outputs": [
        {
          "output_type": "stream",
          "text": [
            "7380\n"
          ],
          "name": "stdout"
        },
        {
          "output_type": "execute_result",
          "data": {
            "text/html": [
              "<div>\n",
              "<style scoped>\n",
              "    .dataframe tbody tr th:only-of-type {\n",
              "        vertical-align: middle;\n",
              "    }\n",
              "\n",
              "    .dataframe tbody tr th {\n",
              "        vertical-align: top;\n",
              "    }\n",
              "\n",
              "    .dataframe thead th {\n",
              "        text-align: right;\n",
              "    }\n",
              "</style>\n",
              "<table border=\"1\" class=\"dataframe\">\n",
              "  <thead>\n",
              "    <tr style=\"text-align: right;\">\n",
              "      <th></th>\n",
              "      <th>Cyberbullying</th>\n",
              "      <th>Text</th>\n",
              "    </tr>\n",
              "  </thead>\n",
              "  <tbody>\n",
              "    <tr>\n",
              "      <th>0</th>\n",
              "      <td>0</td>\n",
              "      <td>????????</td>\n",
              "    </tr>\n",
              "    <tr>\n",
              "      <th>1</th>\n",
              "      <td>0</td>\n",
              "      <td>Why these white girls SO salty in the comments...</td>\n",
              "    </tr>\n",
              "    <tr>\n",
              "      <th>2</th>\n",
              "      <td>0</td>\n",
              "      <td>Y these white ppl still on her ass like she??...</td>\n",
              "    </tr>\n",
              "    <tr>\n",
              "      <th>3</th>\n",
              "      <td>0</td>\n",
              "      <td>La jola??</td>\n",
              "    </tr>\n",
              "    <tr>\n",
              "      <th>4</th>\n",
              "      <td>0</td>\n",
              "      <td>follow me please I love your content please ????</td>\n",
              "    </tr>\n",
              "    <tr>\n",
              "      <th>5</th>\n",
              "      <td>0</td>\n",
              "      <td>Yesssssssssss bring it on baby girl</td>\n",
              "    </tr>\n",
              "  </tbody>\n",
              "</table>\n",
              "</div>"
            ],
            "text/plain": [
              "   Cyberbullying                                               Text\n",
              "0              0                                           ????????\n",
              "1              0  Why these white girls SO salty in the comments...\n",
              "2              0  Y these white ppl still on her ass like she??...\n",
              "3              0                                          La jola??\n",
              "4              0   follow me please I love your content please ????\n",
              "5              0                Yesssssssssss bring it on baby girl"
            ]
          },
          "metadata": {
            "tags": []
          },
          "execution_count": 9
        }
      ]
    },
    {
      "cell_type": "code",
      "metadata": {
        "colab_type": "code",
        "id": "ZnzuWs_KVRfU",
        "colab": {}
      },
      "source": [
        "def cleanText(text):\n",
        "    text = text.strip().replace(\"\\n\", \" \").replace(\"\\r\", \" \")\n",
        "    text = text.strip().replace('\\x80', \"\").replace('\\x80', \"\")\n",
        "    text = re.sub(r'^https?:\\/\\/.*[\\r\\n]*', '', text, flags=re.MULTILINE)\n",
        "    text = re.sub(r'[,!@#$%^&*)(|/><\";:.?\\'\\\\}{]',\"\",text)\n",
        "    text = text.lower()\n",
        "    text = re.sub(r'(.)\\1+', r'\\1\\1', text)\n",
        "    text = re.sub(\"’\", \"'\", text)\n",
        "    return text"
      ],
      "execution_count": null,
      "outputs": []
    },
    {
      "cell_type": "code",
      "metadata": {
        "colab_type": "code",
        "id": "2EG8uYe-VRz2",
        "colab": {
          "base_uri": "https://localhost:8080/",
          "height": 198
        },
        "outputId": "7861b79f-5169-438f-a360-7707f63ca246"
      },
      "source": [
        "df['Text'] = df['Text'].apply(cleanText)\n",
        "filter = df['Text'] != \"\"\n",
        "df = df[filter]\n",
        "df[:5]"
      ],
      "execution_count": null,
      "outputs": [
        {
          "output_type": "execute_result",
          "data": {
            "text/html": [
              "<div>\n",
              "<style scoped>\n",
              "    .dataframe tbody tr th:only-of-type {\n",
              "        vertical-align: middle;\n",
              "    }\n",
              "\n",
              "    .dataframe tbody tr th {\n",
              "        vertical-align: top;\n",
              "    }\n",
              "\n",
              "    .dataframe thead th {\n",
              "        text-align: right;\n",
              "    }\n",
              "</style>\n",
              "<table border=\"1\" class=\"dataframe\">\n",
              "  <thead>\n",
              "    <tr style=\"text-align: right;\">\n",
              "      <th></th>\n",
              "      <th>Cyberbullying</th>\n",
              "      <th>Text</th>\n",
              "    </tr>\n",
              "  </thead>\n",
              "  <tbody>\n",
              "    <tr>\n",
              "      <th>1</th>\n",
              "      <td>0</td>\n",
              "      <td>why these white girls so salty in the comments...</td>\n",
              "    </tr>\n",
              "    <tr>\n",
              "      <th>2</th>\n",
              "      <td>0</td>\n",
              "      <td>y these white ppl still on her ass like shes s...</td>\n",
              "    </tr>\n",
              "    <tr>\n",
              "      <th>3</th>\n",
              "      <td>0</td>\n",
              "      <td>la jola</td>\n",
              "    </tr>\n",
              "    <tr>\n",
              "      <th>4</th>\n",
              "      <td>0</td>\n",
              "      <td>follow me please i love your content please</td>\n",
              "    </tr>\n",
              "    <tr>\n",
              "      <th>5</th>\n",
              "      <td>0</td>\n",
              "      <td>yess bring it on baby girl</td>\n",
              "    </tr>\n",
              "  </tbody>\n",
              "</table>\n",
              "</div>"
            ],
            "text/plain": [
              "   Cyberbullying                                               Text\n",
              "1              0  why these white girls so salty in the comments...\n",
              "2              0  y these white ppl still on her ass like shes s...\n",
              "3              0                                            la jola\n",
              "4              0       follow me please i love your content please \n",
              "5              0                         yess bring it on baby girl"
            ]
          },
          "metadata": {
            "tags": []
          },
          "execution_count": 11
        }
      ]
    },
    {
      "cell_type": "code",
      "metadata": {
        "colab_type": "code",
        "id": "svfkN4ecVR3S",
        "colab": {
          "base_uri": "https://localhost:8080/",
          "height": 36
        },
        "outputId": "3e14a92b-b545-47e5-8932-07998cf3b61b"
      },
      "source": [
        "df['Text'].nunique()"
      ],
      "execution_count": null,
      "outputs": [
        {
          "output_type": "execute_result",
          "data": {
            "text/plain": [
              "5100"
            ]
          },
          "metadata": {
            "tags": []
          },
          "execution_count": 12
        }
      ]
    },
    {
      "cell_type": "code",
      "metadata": {
        "colab_type": "code",
        "id": "p8-YxCJgVR6J",
        "colab": {
          "base_uri": "https://localhost:8080/",
          "height": 198
        },
        "outputId": "adda62be-f210-4ad7-f825-d331f9017a91"
      },
      "source": [
        "df.drop_duplicates(subset=['Text'], inplace=True)\n",
        "df.head()"
      ],
      "execution_count": null,
      "outputs": [
        {
          "output_type": "execute_result",
          "data": {
            "text/html": [
              "<div>\n",
              "<style scoped>\n",
              "    .dataframe tbody tr th:only-of-type {\n",
              "        vertical-align: middle;\n",
              "    }\n",
              "\n",
              "    .dataframe tbody tr th {\n",
              "        vertical-align: top;\n",
              "    }\n",
              "\n",
              "    .dataframe thead th {\n",
              "        text-align: right;\n",
              "    }\n",
              "</style>\n",
              "<table border=\"1\" class=\"dataframe\">\n",
              "  <thead>\n",
              "    <tr style=\"text-align: right;\">\n",
              "      <th></th>\n",
              "      <th>Cyberbullying</th>\n",
              "      <th>Text</th>\n",
              "    </tr>\n",
              "  </thead>\n",
              "  <tbody>\n",
              "    <tr>\n",
              "      <th>1</th>\n",
              "      <td>0</td>\n",
              "      <td>why these white girls so salty in the comments...</td>\n",
              "    </tr>\n",
              "    <tr>\n",
              "      <th>2</th>\n",
              "      <td>0</td>\n",
              "      <td>y these white ppl still on her ass like shes s...</td>\n",
              "    </tr>\n",
              "    <tr>\n",
              "      <th>3</th>\n",
              "      <td>0</td>\n",
              "      <td>la jola</td>\n",
              "    </tr>\n",
              "    <tr>\n",
              "      <th>4</th>\n",
              "      <td>0</td>\n",
              "      <td>follow me please i love your content please</td>\n",
              "    </tr>\n",
              "    <tr>\n",
              "      <th>5</th>\n",
              "      <td>0</td>\n",
              "      <td>yess bring it on baby girl</td>\n",
              "    </tr>\n",
              "  </tbody>\n",
              "</table>\n",
              "</div>"
            ],
            "text/plain": [
              "   Cyberbullying                                               Text\n",
              "1              0  why these white girls so salty in the comments...\n",
              "2              0  y these white ppl still on her ass like shes s...\n",
              "3              0                                            la jola\n",
              "4              0       follow me please i love your content please \n",
              "5              0                         yess bring it on baby girl"
            ]
          },
          "metadata": {
            "tags": []
          },
          "execution_count": 13
        }
      ]
    },
    {
      "cell_type": "code",
      "metadata": {
        "colab_type": "code",
        "id": "ue0FmazTVR_e",
        "colab": {}
      },
      "source": [
        "input_data = df['Text']\n",
        "output_data = df['Cyberbullying']"
      ],
      "execution_count": null,
      "outputs": []
    },
    {
      "cell_type": "code",
      "metadata": {
        "colab_type": "code",
        "id": "xM0KNePkVSCa",
        "colab": {}
      },
      "source": [
        "input_train, input_test, output_train, output_test = train_test_split(input_data, output_data, test_size=0.2, random_state= seed)"
      ],
      "execution_count": null,
      "outputs": []
    },
    {
      "cell_type": "code",
      "metadata": {
        "id": "bYDBxwj4TZdP",
        "colab_type": "code",
        "colab": {}
      },
      "source": [
        "input_train, input_val, output_train, output_val = train_test_split(input_train, output_train, test_size=0.25, random_state = seed)"
      ],
      "execution_count": null,
      "outputs": []
    },
    {
      "cell_type": "code",
      "metadata": {
        "id": "pJv7PaN5TFUC",
        "colab_type": "code",
        "colab": {
          "base_uri": "https://localhost:8080/",
          "height": 73
        },
        "outputId": "352a82e6-f44f-4207-e432-fef7af4feaaf"
      },
      "source": [
        "print(len(input_train))\n",
        "print(len(input_val))\n",
        "print(len(input_test))"
      ],
      "execution_count": null,
      "outputs": [
        {
          "output_type": "stream",
          "text": [
            "3060\n",
            "1020\n",
            "1020\n"
          ],
          "name": "stdout"
        }
      ]
    },
    {
      "cell_type": "code",
      "metadata": {
        "colab_type": "code",
        "id": "LkX4s71tVSEr",
        "colab": {
          "base_uri": "https://localhost:8080/",
          "height": 91
        },
        "outputId": "78e501b5-1f87-4bd8-ba77-55be52e017a9"
      },
      "source": [
        "print(input_train.shape)\n",
        "print(input_test.shape)\n",
        "print(output_train.shape)\n",
        "print(output_test.shape)"
      ],
      "execution_count": null,
      "outputs": [
        {
          "output_type": "stream",
          "text": [
            "(3060,)\n",
            "(1020,)\n",
            "(3060,)\n",
            "(1020,)\n"
          ],
          "name": "stdout"
        }
      ]
    },
    {
      "cell_type": "code",
      "metadata": {
        "colab_type": "code",
        "id": "QFWeZQbmVR9c",
        "colab": {}
      },
      "source": [
        "def f1(y_true, y_pred):\n",
        "    def recall(y_true, y_pred):\n",
        "        true_positives = K.sum(K.round(K.clip(y_true * y_pred, 0, 1)))\n",
        "        possible_positives = K.sum(K.round(K.clip(y_true, 0, 1)))\n",
        "        recall = true_positives / (possible_positives + K.epsilon())\n",
        "        return recall\n",
        "\n",
        "    def precision(y_true, y_pred):\n",
        " \n",
        "        true_positives = K.sum(K.round(K.clip(y_true * y_pred, 0, 1)))\n",
        "        predicted_positives = K.sum(K.round(K.clip(y_pred, 0, 1)))\n",
        "        precision = true_positives / (predicted_positives + K.epsilon())\n",
        "        return precision\n",
        "    precision = precision(y_true, y_pred)\n",
        "    recall = recall(y_true, y_pred)\n",
        "    return 2*((precision*recall)/(precision+recall+K.epsilon()))"
      ],
      "execution_count": null,
      "outputs": []
    },
    {
      "cell_type": "code",
      "metadata": {
        "colab_type": "code",
        "id": "zHaaL1PAVcMW",
        "colab": {}
      },
      "source": [
        "def ELMoEmbedding(x):\n",
        "    return elmo(tf.squeeze(tf.cast(x, tf.string)), as_dict=True, signature=\"default\")[\"default\"]\n",
        "\n",
        "def ELMoEmbedding2(input_text):\n",
        "    return elmo(tf.reshape(tf.cast(input_text, tf.string), [-1]), signature=\"default\", as_dict=True)[\"elmo\"]"
      ],
      "execution_count": null,
      "outputs": []
    },
    {
      "cell_type": "code",
      "metadata": {
        "colab_type": "code",
        "id": "uN5UinhOVfkM",
        "colab": {}
      },
      "source": [
        "def LSTM_model():\n",
        "    input_layer = Input(shape=(1,), dtype=\"string\", name=\"Input_layer\")\n",
        "    embedding_layer = Lambda(ELMoEmbedding2, output_shape=(1024, ), name=\"Elmo_Embedding\")(input_layer)\n",
        "    Dropout_layer_1 = Dropout(0.25)(embedding_layer)\n",
        "    LSTMs = LSTM(64, return_sequences= False, name=\"LSTM\")(Dropout_layer_1)\n",
        "    Dropout_layer_2 = Dropout(0.5)(LSTMs)\n",
        "    output_layer = Dense(1, activation='sigmoid')(Dropout_layer_2)\n",
        "    model = Model(inputs=[input_layer], outputs=output_layer, name=\"LSTM with ELMo Embeddings\")\n",
        "    model.compile(loss='binary_crossentropy',optimizer='adam', metrics=['acc', f1, 'Precision', 'Recall', 'AUC'])\n",
        "    return model \n",
        "\n",
        "\n",
        "def BLSTM_model():\n",
        "    input_layer = Input(shape=(1,), dtype=\"string\", name=\"Input_layer\")\n",
        "    embedding_layer = Lambda(ELMoEmbedding2, output_shape=(1024, ), name=\"Elmo_Embedding\")(input_layer)\n",
        "    Dropout_layer_1 = Dropout(0.25)(embedding_layer)\n",
        "    BiLSTM = Bidirectional(LSTM(64, return_sequences= False), name=\"BLSTM\")(Dropout_layer_1)\n",
        "    Dropout_layer_2 = Dropout(0.5)(BiLSTM)\n",
        "    output_layer = Dense(1, activation='sigmoid')(Dropout_layer_2)\n",
        "    model = Model(inputs=[input_layer], outputs=output_layer, name=\"BLSTM with ELMo Embeddings\")\n",
        "    model.compile(loss='binary_crossentropy',optimizer='adam', metrics=['acc', f1, 'Precision', 'Recall', 'AUC'])\n",
        "    return model \n",
        "\n",
        "def RNN_model():\n",
        "    input_text = Input(shape=(1,), dtype=tf.string)\n",
        "    embedding_layer = Lambda(ELMoEmbedding, output_shape=(1024, ))(input_text)\n",
        "    reshape = Reshape((1,1024))(embedding_layer)\n",
        "    Dropout_layer_1 = Dropout(0.25)(reshape)\n",
        "    hidden_layer = SimpleRNN(64)(Dropout_layer_1)\n",
        "    Dropout_layer_2 = Dropout(0.50)(hidden_layer)\n",
        "    output_layer = Dense(1, activation='sigmoid')(Dropout_layer_2)\n",
        "    model = Model(inputs=[input_text], outputs=output_layer)\n",
        "    model.compile(loss='binary_crossentropy', optimizer='adam', metrics=['acc', f1, 'Precision', 'Recall', 'AUC'])\n",
        "    return model\n",
        "\n",
        "# def DNN_model():\n",
        "#     input_text = Input(shape=(1,), dtype=tf.string, name=\"Input_Layer\")\n",
        "#     embedding_layer = Lambda(ELMoEmbedding, output_shape=(1024, ), name = \"ELMo_Embedding\")(input_text)\n",
        "#     hidden_layer = Dense(32, activation='relu')(embedding_layer)\n",
        "#     Dropout_layer_1 = Dropout(0.5)(hidden_layer)\n",
        "#     hidden_layer2 = Dense(32, activation='relu')(Dropout_layer_1)\n",
        "#     Dropout_layer_2 = Dropout(0.5)(hidden_layer2)\n",
        "#     output_layer = Dense(1, activation='sigmoid')(Dropout_layer_2)\n",
        "#     model = Model(inputs=[input_text], outputs=output_layer, name=\"DNN with ELMo Embeddings\")\n",
        "#     model.compile(loss='binary_crossentropy', optimizer='adam', metrics=['acc', f1, 'Precision', 'Recall', 'AUC'])\n",
        "#     return model "
      ],
      "execution_count": null,
      "outputs": []
    },
    {
      "cell_type": "code",
      "metadata": {
        "colab_type": "code",
        "id": "edRXKpNBVh8H",
        "colab": {
          "base_uri": "https://localhost:8080/",
          "height": 425
        },
        "outputId": "3070e85a-31b9-4423-c657-3d5c7991e1cc"
      },
      "source": [
        "model = BLSTM_model()\n",
        "model.summary()"
      ],
      "execution_count": null,
      "outputs": [
        {
          "output_type": "stream",
          "text": [
            "INFO:tensorflow:Saver not created because there are no variables in the graph to restore\n"
          ],
          "name": "stdout"
        },
        {
          "output_type": "stream",
          "text": [
            "INFO:tensorflow:Saver not created because there are no variables in the graph to restore\n"
          ],
          "name": "stderr"
        },
        {
          "output_type": "stream",
          "text": [
            "Model: \"BLSTM with ELMo Embeddings\"\n",
            "_________________________________________________________________\n",
            "Layer (type)                 Output Shape              Param #   \n",
            "=================================================================\n",
            "Input_layer (InputLayer)     [(None, 1)]               0         \n",
            "_________________________________________________________________\n",
            "Elmo_Embedding (Lambda)      (None, None, 1024)        0         \n",
            "_________________________________________________________________\n",
            "dropout (Dropout)            (None, None, 1024)        0         \n",
            "_________________________________________________________________\n",
            "BLSTM (Bidirectional)        (None, 128)               557568    \n",
            "_________________________________________________________________\n",
            "dropout_1 (Dropout)          (None, 128)               0         \n",
            "_________________________________________________________________\n",
            "dense (Dense)                (None, 1)                 129       \n",
            "=================================================================\n",
            "Total params: 557,697\n",
            "Trainable params: 557,697\n",
            "Non-trainable params: 0\n",
            "_________________________________________________________________\n"
          ],
          "name": "stdout"
        }
      ]
    },
    {
      "cell_type": "code",
      "metadata": {
        "colab_type": "code",
        "id": "0CzvHfpAVpTw",
        "colab": {
          "base_uri": "https://localhost:8080/",
          "height": 204
        },
        "outputId": "dea47e52-bff1-4d06-a8dc-c00bda1966b6"
      },
      "source": [
        "history = model.fit(input_train, output_train, epochs=4, batch_size=32, validation_data = (input_val, output_val),  verbose=1)"
      ],
      "execution_count": null,
      "outputs": [
        {
          "output_type": "stream",
          "text": [
            "Train on 3060 samples, validate on 1020 samples\n",
            "Epoch 1/4\n",
            "3060/3060 [==============================] - 426s 139ms/sample - loss: 0.4446 - acc: 0.7840 - f1: 0.4815 - precision: 0.6305 - recall: 0.4271 - auc: 0.8170 - val_loss: 0.3805 - val_acc: 0.8284 - val_f1: 0.6358 - val_precision: 0.6781 - val_recall: 0.6124 - val_auc: 0.8703\n",
            "Epoch 2/4\n",
            "3060/3060 [==============================] - 412s 135ms/sample - loss: 0.3584 - acc: 0.8366 - f1: 0.6473 - precision: 0.7225 - recall: 0.6127 - auc: 0.8900 - val_loss: 0.3617 - val_acc: 0.8441 - val_f1: 0.6473 - val_precision: 0.7302 - val_recall: 0.6085 - val_auc: 0.8800\n",
            "Epoch 3/4\n",
            "3060/3060 [==============================] - 410s 134ms/sample - loss: 0.3104 - acc: 0.8683 - f1: 0.7139 - precision: 0.7849 - recall: 0.6862 - auc: 0.9177 - val_loss: 0.3623 - val_acc: 0.8520 - val_f1: 0.6579 - val_precision: 0.7560 - val_recall: 0.6124 - val_auc: 0.8800\n",
            "Epoch 4/4\n",
            "3060/3060 [==============================] - 391s 128ms/sample - loss: 0.2737 - acc: 0.8850 - f1: 0.7527 - precision: 0.8085 - recall: 0.7360 - auc: 0.9365 - val_loss: 0.3643 - val_acc: 0.8412 - val_f1: 0.6721 - val_precision: 0.6791 - val_recall: 0.7054 - val_auc: 0.8901\n"
          ],
          "name": "stdout"
        }
      ]
    },
    {
      "cell_type": "code",
      "metadata": {
        "colab_type": "code",
        "id": "QxFYSfRDVsIZ",
        "colab": {
          "base_uri": "https://localhost:8080/",
          "height": 54
        },
        "outputId": "c9e06519-e85b-4922-f355-1701b7a1c4cc"
      },
      "source": [
        "y_pred = model.evaluate(input_test, output_test)\n",
        "y_pred"
      ],
      "execution_count": null,
      "outputs": [
        {
          "output_type": "stream",
          "text": [
            "1020/1020 [==============================] - 93s 91ms/sample - loss: 0.3343 - acc: 0.8461 - f1: 0.7054 - precision: 0.7218 - recall: 0.6982 - auc: 0.9119\n"
          ],
          "name": "stdout"
        },
        {
          "output_type": "execute_result",
          "data": {
            "text/plain": [
              "[0.3343492133360283, 0.84607846, 0.7053731, 0.7218045, 0.6981818, 0.91185355]"
            ]
          },
          "metadata": {
            "tags": []
          },
          "execution_count": 25
        }
      ]
    },
    {
      "cell_type": "code",
      "metadata": {
        "colab_type": "code",
        "id": "J-ftwwZNVvYO",
        "colab": {}
      },
      "source": [
        "y_pred = model.predict(input_test)"
      ],
      "execution_count": null,
      "outputs": []
    },
    {
      "cell_type": "code",
      "metadata": {
        "colab_type": "code",
        "id": "ApmW4QbJ4rp-",
        "colab": {
          "base_uri": "https://localhost:8080/",
          "height": 36
        },
        "outputId": "66a0313a-b573-4c74-d21d-fb138b8aceaf"
      },
      "source": [
        "from sklearn.metrics import roc_curve, roc_auc_score, auc\n",
        "\n",
        "fpr_keras, tpr_keras, thresholds_keras = roc_curve(output_test, y_pred)\n",
        "auc_keras = auc(fpr_keras, tpr_keras)\n",
        "auc_keras"
      ],
      "execution_count": null,
      "outputs": [
        {
          "output_type": "execute_result",
          "data": {
            "text/plain": [
              "0.9118682123245881"
            ]
          },
          "metadata": {
            "tags": []
          },
          "execution_count": 27
        }
      ]
    },
    {
      "cell_type": "code",
      "metadata": {
        "colab_type": "code",
        "id": "3E2_vyJ94yoF",
        "colab": {
          "base_uri": "https://localhost:8080/",
          "height": 300
        },
        "outputId": "638c0ee2-bc1e-4562-faa6-ab6dc939908c"
      },
      "source": [
        "plt.figure(1)\n",
        "plt.plot([0, 1], [0, 1], 'k--')\n",
        "plt.plot(fpr_keras, tpr_keras, label='Model (area = {:.3f})'.format(auc_keras))\n",
        "\n",
        "plt.plot([0,1], [0,1], color='orange', linestyle='--')\n",
        "\n",
        "plt.xticks(np.arange(0.0, 1.1, step=0.1))\n",
        "plt.xlabel(\"False Positive Rate\", fontsize=12)\n",
        "\n",
        "plt.yticks(np.arange(0.0, 1.1, step=0.1))\n",
        "plt.ylabel(\"True Positive Rate\", fontsize=12)\n",
        "\n",
        "plt.title('ROC Curve Analysis', fontweight='bold', fontsize=15)\n",
        "plt.legend(prop={'size':9}, loc='lower right')\n",
        "\n",
        "plt.show()\n",
        "#plt.savefig(\".jpg\")"
      ],
      "execution_count": null,
      "outputs": [
        {
          "output_type": "display_data",
          "data": {
            "image/png": "[encoded data removed]",
            "text/plain": [
              "<Figure size 432x288 with 1 Axes>"
            ]
          },
          "metadata": {
            "tags": [],
            "needs_background": "light"
          }
        }
      ]
    },
    {
      "cell_type": "code",
      "metadata": {
        "colab_type": "code",
        "id": "Wv-U3xmDVvUJ",
        "colab": {}
      },
      "source": [
        "y_pred_binary = []"
      ],
      "execution_count": null,
      "outputs": []
    },
    {
      "cell_type": "code",
      "metadata": {
        "colab_type": "code",
        "id": "qnrtHUqmVvW1",
        "colab": {}
      },
      "source": [
        "for pred in y_pred:\n",
        "    if pred > 0.5:\n",
        "        y_pred_binary.append(1)\n",
        "    else:\n",
        "        y_pred_binary.append(0)"
      ],
      "execution_count": null,
      "outputs": []
    },
    {
      "cell_type": "code",
      "metadata": {
        "colab_type": "code",
        "id": "6bQ4-pO1Vzjy",
        "colab": {
          "base_uri": "https://localhost:8080/",
          "height": 184
        },
        "outputId": "b6ee02d8-9d73-48e9-c328-d57224cb315c"
      },
      "source": [
        "print(classification_report(output_test, y_pred_binary, labels=[0, 1]))"
      ],
      "execution_count": null,
      "outputs": [
        {
          "output_type": "stream",
          "text": [
            "              precision    recall  f1-score   support\n",
            "\n",
            "           0       0.89      0.90      0.90       745\n",
            "           1       0.72      0.70      0.71       275\n",
            "\n",
            "    accuracy                           0.85      1020\n",
            "   macro avg       0.81      0.80      0.80      1020\n",
            "weighted avg       0.84      0.85      0.85      1020\n",
            "\n"
          ],
          "name": "stdout"
        }
      ]
    },
    {
      "cell_type": "code",
      "metadata": {
        "id": "nIH2gTpia2Oa",
        "colab_type": "code",
        "colab": {}
      },
      "source": [
        ""
      ],
      "execution_count": null,
      "outputs": []
    }
  ]
}